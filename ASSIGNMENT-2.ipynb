{
 "cells": [
  {
   "cell_type": "markdown",
   "metadata": {},
   "source": [
    "Part-1"
   ]
  },
  {
   "cell_type": "code",
   "execution_count": 1,
   "metadata": {},
   "outputs": [],
   "source": [
    "import pandas as pd"
   ]
  },
  {
   "cell_type": "code",
   "execution_count": 6,
   "metadata": {},
   "outputs": [],
   "source": [
    "house = pd.read_csv('houses.csv',names=columns)"
   ]
  },
  {
   "cell_type": "code",
   "execution_count": 5,
   "metadata": {},
   "outputs": [],
   "source": [
    "columns = ['TUI','Price','DOT','PostCode','Property Type','Old/New','Duration','PAON','SAON','Street','Locality','Town/City','District','County','PPDCategory Type','Record Status - monthly file only']"
   ]
  },
  {
   "cell_type": "code",
   "execution_count": 7,
   "metadata": {},
   "outputs": [
    {
     "data": {
      "text/html": [
       "<div>\n",
       "<style scoped>\n",
       "    .dataframe tbody tr th:only-of-type {\n",
       "        vertical-align: middle;\n",
       "    }\n",
       "\n",
       "    .dataframe tbody tr th {\n",
       "        vertical-align: top;\n",
       "    }\n",
       "\n",
       "    .dataframe thead th {\n",
       "        text-align: right;\n",
       "    }\n",
       "</style>\n",
       "<table border=\"1\" class=\"dataframe\">\n",
       "  <thead>\n",
       "    <tr style=\"text-align: right;\">\n",
       "      <th></th>\n",
       "      <th>TUI</th>\n",
       "      <th>Price</th>\n",
       "      <th>DOT</th>\n",
       "      <th>PostCode</th>\n",
       "      <th>Property Type</th>\n",
       "      <th>Old/New</th>\n",
       "      <th>Duration</th>\n",
       "      <th>PAON</th>\n",
       "      <th>SAON</th>\n",
       "      <th>Street</th>\n",
       "      <th>Locality</th>\n",
       "      <th>Town/City</th>\n",
       "      <th>District</th>\n",
       "      <th>County</th>\n",
       "      <th>PPDCategory Type</th>\n",
       "      <th>Record Status - monthly file only</th>\n",
       "    </tr>\n",
       "  </thead>\n",
       "  <tbody>\n",
       "    <tr>\n",
       "      <th>0</th>\n",
       "      <td>{02A6460F-C1F3-4977-B7ED-2A77C79302AE}</td>\n",
       "      <td>52000</td>\n",
       "      <td>2001-12-07 00:00</td>\n",
       "      <td>DE6 1BL</td>\n",
       "      <td>S</td>\n",
       "      <td>N</td>\n",
       "      <td>F</td>\n",
       "      <td>1A</td>\n",
       "      <td>NaN</td>\n",
       "      <td>OLD HILL</td>\n",
       "      <td>ASHBOURNE</td>\n",
       "      <td>ASHBOURNE</td>\n",
       "      <td>DERBYSHIRE DALES</td>\n",
       "      <td>DERBYSHIRE</td>\n",
       "      <td>A</td>\n",
       "      <td>A</td>\n",
       "    </tr>\n",
       "    <tr>\n",
       "      <th>1</th>\n",
       "      <td>{5EEB0C41-09F5-4BDF-A73E-A4E72E20BFC4}</td>\n",
       "      <td>57000</td>\n",
       "      <td>2003-09-12 00:00</td>\n",
       "      <td>B36 0RA</td>\n",
       "      <td>T</td>\n",
       "      <td>N</td>\n",
       "      <td>F</td>\n",
       "      <td>44</td>\n",
       "      <td>NaN</td>\n",
       "      <td>GREENFINCH ROAD</td>\n",
       "      <td>BIRMINGHAM</td>\n",
       "      <td>BIRMINGHAM</td>\n",
       "      <td>SOLIHULL</td>\n",
       "      <td>WEST MIDLANDS</td>\n",
       "      <td>A</td>\n",
       "      <td>A</td>\n",
       "    </tr>\n",
       "    <tr>\n",
       "      <th>2</th>\n",
       "      <td>{09975216-3588-418C-B6C5-A5704B0E77DE}</td>\n",
       "      <td>69500</td>\n",
       "      <td>2005-12-21 00:00</td>\n",
       "      <td>OL16 2XR</td>\n",
       "      <td>T</td>\n",
       "      <td>N</td>\n",
       "      <td>L</td>\n",
       "      <td>143</td>\n",
       "      <td>NaN</td>\n",
       "      <td>BELFIELD ROAD</td>\n",
       "      <td>ROCHDALE</td>\n",
       "      <td>ROCHDALE</td>\n",
       "      <td>ROCHDALE</td>\n",
       "      <td>GREATER MANCHESTER</td>\n",
       "      <td>A</td>\n",
       "      <td>A</td>\n",
       "    </tr>\n",
       "    <tr>\n",
       "      <th>3</th>\n",
       "      <td>{44CB83B9-0EC3-48D4-9B8D-B34D13D3C09E}</td>\n",
       "      <td>84000</td>\n",
       "      <td>2001-01-31 00:00</td>\n",
       "      <td>SN1 4LJ</td>\n",
       "      <td>T</td>\n",
       "      <td>N</td>\n",
       "      <td>F</td>\n",
       "      <td>34</td>\n",
       "      <td>NaN</td>\n",
       "      <td>KINGSHILL ROAD</td>\n",
       "      <td>SWINDON</td>\n",
       "      <td>SWINDON</td>\n",
       "      <td>SWINDON</td>\n",
       "      <td>SWINDON</td>\n",
       "      <td>A</td>\n",
       "      <td>A</td>\n",
       "    </tr>\n",
       "    <tr>\n",
       "      <th>4</th>\n",
       "      <td>{74828706-CBFC-406D-B7B6-394B5863E22E}</td>\n",
       "      <td>110000</td>\n",
       "      <td>1998-02-27 00:00</td>\n",
       "      <td>OX3 8AJ</td>\n",
       "      <td>S</td>\n",
       "      <td>N</td>\n",
       "      <td>F</td>\n",
       "      <td>62</td>\n",
       "      <td>NaN</td>\n",
       "      <td>WHARTON ROAD</td>\n",
       "      <td>HEADINGTON</td>\n",
       "      <td>OXFORD</td>\n",
       "      <td>OXFORD</td>\n",
       "      <td>OXFORDSHIRE</td>\n",
       "      <td>A</td>\n",
       "      <td>A</td>\n",
       "    </tr>\n",
       "  </tbody>\n",
       "</table>\n",
       "</div>"
      ],
      "text/plain": [
       "                                      TUI   Price               DOT  PostCode  \\\n",
       "0  {02A6460F-C1F3-4977-B7ED-2A77C79302AE}   52000  2001-12-07 00:00   DE6 1BL   \n",
       "1  {5EEB0C41-09F5-4BDF-A73E-A4E72E20BFC4}   57000  2003-09-12 00:00   B36 0RA   \n",
       "2  {09975216-3588-418C-B6C5-A5704B0E77DE}   69500  2005-12-21 00:00  OL16 2XR   \n",
       "3  {44CB83B9-0EC3-48D4-9B8D-B34D13D3C09E}   84000  2001-01-31 00:00   SN1 4LJ   \n",
       "4  {74828706-CBFC-406D-B7B6-394B5863E22E}  110000  1998-02-27 00:00   OX3 8AJ   \n",
       "\n",
       "  Property Type Old/New Duration PAON SAON           Street    Locality  \\\n",
       "0             S       N        F   1A  NaN         OLD HILL   ASHBOURNE   \n",
       "1             T       N        F   44  NaN  GREENFINCH ROAD  BIRMINGHAM   \n",
       "2             T       N        L  143  NaN    BELFIELD ROAD    ROCHDALE   \n",
       "3             T       N        F   34  NaN   KINGSHILL ROAD     SWINDON   \n",
       "4             S       N        F   62  NaN     WHARTON ROAD  HEADINGTON   \n",
       "\n",
       "    Town/City          District              County PPDCategory Type  \\\n",
       "0   ASHBOURNE  DERBYSHIRE DALES          DERBYSHIRE                A   \n",
       "1  BIRMINGHAM          SOLIHULL       WEST MIDLANDS                A   \n",
       "2    ROCHDALE          ROCHDALE  GREATER MANCHESTER                A   \n",
       "3     SWINDON           SWINDON             SWINDON                A   \n",
       "4      OXFORD            OXFORD         OXFORDSHIRE                A   \n",
       "\n",
       "  Record Status - monthly file only  \n",
       "0                                 A  \n",
       "1                                 A  \n",
       "2                                 A  \n",
       "3                                 A  \n",
       "4                                 A  "
      ]
     },
     "execution_count": 7,
     "metadata": {},
     "output_type": "execute_result"
    }
   ],
   "source": [
    "house.head()"
   ]
  },
  {
   "cell_type": "code",
   "execution_count": 8,
   "metadata": {},
   "outputs": [
    {
     "data": {
      "text/plain": [
       "count    1.000000e+05\n",
       "mean     1.743868e+05\n",
       "std      3.514634e+05\n",
       "min      1.500000e+02\n",
       "25%      7.400000e+04\n",
       "50%      1.290000e+05\n",
       "75%      2.070000e+05\n",
       "max      4.846572e+07\n",
       "Name: Price, dtype: float64"
      ]
     },
     "execution_count": 8,
     "metadata": {},
     "output_type": "execute_result"
    }
   ],
   "source": [
    "house.Price.describe()"
   ]
  },
  {
   "cell_type": "code",
   "execution_count": 9,
   "metadata": {},
   "outputs": [],
   "source": [
    "import matplotlib.pyplot as plt"
   ]
  },
  {
   "cell_type": "code",
   "execution_count": 24,
   "metadata": {},
   "outputs": [
    {
     "data": {
      "text/plain": [
       "(array([  9.99630000e+04,   2.40000000e+01,   3.00000000e+00,\n",
       "          3.00000000e+00,   3.00000000e+00,   1.00000000e+00,\n",
       "          1.00000000e+00,   1.00000000e+00,   0.00000000e+00,\n",
       "          1.00000000e+00]),\n",
       " array([  1.50000000e+02,   4.84670670e+06,   9.69326340e+06,\n",
       "          1.45398201e+07,   1.93863768e+07,   2.42329335e+07,\n",
       "          2.90794902e+07,   3.39260469e+07,   3.87726036e+07,\n",
       "          4.36191603e+07,   4.84657170e+07]),\n",
       " <a list of 10 Patch objects>)"
      ]
     },
     "execution_count": 24,
     "metadata": {},
     "output_type": "execute_result"
    },
    {
     "data": {
      "image/png": "[encoded data removed]",
      "text/plain": [
       "<Figure size 432x288 with 1 Axes>"
      ]
     },
     "metadata": {
      "needs_background": "light"
     },
     "output_type": "display_data"
    }
   ],
   "source": [
    "plt.hist(house['Price'])"
   ]
  },
  {
   "cell_type": "code",
   "execution_count": 25,
   "metadata": {},
   "outputs": [
    {
     "data": {
      "text/plain": [
       "(array([  4.65630000e+04,   3.49170000e+04,   1.10590000e+04,\n",
       "          3.66100000e+03,   1.65700000e+03,   7.47000000e+02,\n",
       "          4.16000000e+02,   2.56000000e+02,   1.34000000e+02,\n",
       "          1.31000000e+02,   8.80000000e+01,   5.90000000e+01,\n",
       "          4.80000000e+01,   3.20000000e+01,   3.80000000e+01,\n",
       "          2.30000000e+01,   1.90000000e+01,   1.10000000e+01,\n",
       "          1.40000000e+01,   8.00000000e+00,   8.00000000e+00,\n",
       "          1.10000000e+01,   9.00000000e+00,   6.00000000e+00,\n",
       "          5.00000000e+00,   4.00000000e+00,   5.00000000e+00,\n",
       "          3.00000000e+00,   5.00000000e+00,   1.00000000e+00,\n",
       "          4.00000000e+00,   4.00000000e+00,   5.00000000e+00,\n",
       "          5.00000000e+00,   1.00000000e+00,   3.00000000e+00,\n",
       "          1.00000000e+00,   1.00000000e+00,   1.00000000e+00,\n",
       "          0.00000000e+00,   1.00000000e+00,   1.00000000e+00,\n",
       "          2.00000000e+00,   2.00000000e+00,   0.00000000e+00,\n",
       "          1.00000000e+00,   1.00000000e+00,   3.00000000e+00,\n",
       "          0.00000000e+00,   1.00000000e+00,   0.00000000e+00,\n",
       "          1.00000000e+00,   0.00000000e+00,   0.00000000e+00,\n",
       "          1.00000000e+00,   2.00000000e+00,   0.00000000e+00,\n",
       "          1.00000000e+00,   0.00000000e+00,   0.00000000e+00,\n",
       "          0.00000000e+00,   3.00000000e+00,   0.00000000e+00,\n",
       "          0.00000000e+00,   0.00000000e+00,   0.00000000e+00,\n",
       "          1.00000000e+00,   0.00000000e+00,   1.00000000e+00,\n",
       "          0.00000000e+00,   0.00000000e+00,   0.00000000e+00,\n",
       "          0.00000000e+00,   0.00000000e+00,   0.00000000e+00,\n",
       "          0.00000000e+00,   1.00000000e+00,   0.00000000e+00,\n",
       "          0.00000000e+00,   1.00000000e+00,   0.00000000e+00,\n",
       "          0.00000000e+00,   1.00000000e+00,   0.00000000e+00,\n",
       "          0.00000000e+00,   0.00000000e+00,   0.00000000e+00,\n",
       "          0.00000000e+00,   0.00000000e+00,   0.00000000e+00,\n",
       "          0.00000000e+00,   0.00000000e+00,   0.00000000e+00,\n",
       "          0.00000000e+00,   0.00000000e+00,   1.00000000e+00,\n",
       "          0.00000000e+00,   0.00000000e+00,   0.00000000e+00,\n",
       "          0.00000000e+00,   0.00000000e+00,   0.00000000e+00,\n",
       "          0.00000000e+00,   0.00000000e+00,   0.00000000e+00,\n",
       "          0.00000000e+00,   0.00000000e+00,   0.00000000e+00,\n",
       "          0.00000000e+00,   1.00000000e+00,   0.00000000e+00,\n",
       "          0.00000000e+00,   0.00000000e+00,   0.00000000e+00,\n",
       "          0.00000000e+00,   0.00000000e+00,   0.00000000e+00,\n",
       "          0.00000000e+00,   0.00000000e+00,   0.00000000e+00,\n",
       "          0.00000000e+00,   0.00000000e+00,   0.00000000e+00,\n",
       "          0.00000000e+00,   0.00000000e+00,   1.00000000e+00,\n",
       "          0.00000000e+00,   0.00000000e+00,   0.00000000e+00,\n",
       "          0.00000000e+00,   0.00000000e+00,   0.00000000e+00,\n",
       "          1.00000000e+00,   0.00000000e+00,   0.00000000e+00,\n",
       "          0.00000000e+00,   0.00000000e+00,   0.00000000e+00,\n",
       "          0.00000000e+00,   0.00000000e+00,   0.00000000e+00,\n",
       "          0.00000000e+00,   0.00000000e+00,   0.00000000e+00,\n",
       "          0.00000000e+00,   0.00000000e+00,   0.00000000e+00,\n",
       "          0.00000000e+00,   0.00000000e+00,   0.00000000e+00,\n",
       "          0.00000000e+00,   0.00000000e+00,   1.00000000e+00,\n",
       "          0.00000000e+00,   0.00000000e+00,   0.00000000e+00,\n",
       "          0.00000000e+00,   0.00000000e+00,   0.00000000e+00,\n",
       "          0.00000000e+00,   0.00000000e+00,   1.00000000e+00,\n",
       "          0.00000000e+00,   0.00000000e+00,   0.00000000e+00,\n",
       "          1.00000000e+00,   0.00000000e+00,   0.00000000e+00,\n",
       "          0.00000000e+00,   0.00000000e+00,   0.00000000e+00,\n",
       "          0.00000000e+00,   0.00000000e+00,   0.00000000e+00,\n",
       "          0.00000000e+00,   0.00000000e+00,   0.00000000e+00,\n",
       "          0.00000000e+00,   0.00000000e+00,   1.00000000e+00,\n",
       "          0.00000000e+00,   0.00000000e+00,   0.00000000e+00,\n",
       "          0.00000000e+00,   0.00000000e+00,   0.00000000e+00,\n",
       "          0.00000000e+00,   0.00000000e+00,   0.00000000e+00,\n",
       "          0.00000000e+00,   0.00000000e+00,   0.00000000e+00,\n",
       "          0.00000000e+00,   0.00000000e+00,   0.00000000e+00,\n",
       "          0.00000000e+00,   0.00000000e+00,   0.00000000e+00,\n",
       "          0.00000000e+00,   0.00000000e+00,   0.00000000e+00,\n",
       "          0.00000000e+00,   0.00000000e+00,   0.00000000e+00,\n",
       "          0.00000000e+00,   0.00000000e+00,   0.00000000e+00,\n",
       "          0.00000000e+00,   0.00000000e+00,   0.00000000e+00,\n",
       "          0.00000000e+00,   0.00000000e+00,   0.00000000e+00,\n",
       "          0.00000000e+00,   0.00000000e+00,   0.00000000e+00,\n",
       "          0.00000000e+00,   0.00000000e+00,   0.00000000e+00,\n",
       "          0.00000000e+00,   0.00000000e+00,   0.00000000e+00,\n",
       "          0.00000000e+00,   0.00000000e+00,   0.00000000e+00,\n",
       "          0.00000000e+00,   0.00000000e+00,   0.00000000e+00,\n",
       "          0.00000000e+00,   0.00000000e+00,   0.00000000e+00,\n",
       "          0.00000000e+00,   0.00000000e+00,   0.00000000e+00,\n",
       "          0.00000000e+00,   0.00000000e+00,   0.00000000e+00,\n",
       "          0.00000000e+00,   0.00000000e+00,   1.00000000e+00,\n",
       "          0.00000000e+00,   0.00000000e+00,   0.00000000e+00,\n",
       "          0.00000000e+00,   0.00000000e+00,   0.00000000e+00,\n",
       "          0.00000000e+00,   0.00000000e+00,   0.00000000e+00,\n",
       "          0.00000000e+00,   0.00000000e+00,   0.00000000e+00,\n",
       "          0.00000000e+00,   0.00000000e+00,   0.00000000e+00,\n",
       "          0.00000000e+00,   0.00000000e+00,   0.00000000e+00,\n",
       "          0.00000000e+00,   0.00000000e+00,   0.00000000e+00,\n",
       "          0.00000000e+00,   0.00000000e+00,   0.00000000e+00,\n",
       "          0.00000000e+00,   0.00000000e+00,   0.00000000e+00,\n",
       "          0.00000000e+00,   0.00000000e+00,   0.00000000e+00,\n",
       "          0.00000000e+00,   0.00000000e+00,   0.00000000e+00,\n",
       "          0.00000000e+00,   0.00000000e+00,   0.00000000e+00,\n",
       "          0.00000000e+00,   0.00000000e+00,   0.00000000e+00,\n",
       "          1.00000000e+00,   0.00000000e+00,   0.00000000e+00,\n",
       "          0.00000000e+00,   0.00000000e+00,   0.00000000e+00,\n",
       "          0.00000000e+00,   0.00000000e+00,   0.00000000e+00,\n",
       "          0.00000000e+00,   0.00000000e+00,   0.00000000e+00,\n",
       "          1.00000000e+00,   0.00000000e+00,   0.00000000e+00,\n",
       "          0.00000000e+00,   0.00000000e+00,   0.00000000e+00,\n",
       "          0.00000000e+00,   0.00000000e+00,   0.00000000e+00,\n",
       "          0.00000000e+00,   0.00000000e+00,   0.00000000e+00,\n",
       "          0.00000000e+00,   0.00000000e+00,   0.00000000e+00,\n",
       "          0.00000000e+00,   0.00000000e+00,   0.00000000e+00,\n",
       "          0.00000000e+00,   0.00000000e+00,   0.00000000e+00,\n",
       "          0.00000000e+00,   0.00000000e+00,   0.00000000e+00,\n",
       "          0.00000000e+00,   0.00000000e+00,   0.00000000e+00,\n",
       "          0.00000000e+00,   0.00000000e+00,   0.00000000e+00,\n",
       "          0.00000000e+00,   0.00000000e+00,   0.00000000e+00,\n",
       "          0.00000000e+00,   0.00000000e+00,   0.00000000e+00,\n",
       "          0.00000000e+00,   0.00000000e+00,   0.00000000e+00,\n",
       "          0.00000000e+00,   0.00000000e+00,   0.00000000e+00,\n",
       "          0.00000000e+00,   0.00000000e+00,   0.00000000e+00,\n",
       "          0.00000000e+00,   0.00000000e+00,   0.00000000e+00,\n",
       "          0.00000000e+00,   0.00000000e+00,   0.00000000e+00,\n",
       "          0.00000000e+00,   0.00000000e+00,   0.00000000e+00,\n",
       "          0.00000000e+00,   0.00000000e+00,   0.00000000e+00,\n",
       "          0.00000000e+00,   0.00000000e+00,   0.00000000e+00,\n",
       "          0.00000000e+00,   0.00000000e+00,   0.00000000e+00,\n",
       "          0.00000000e+00,   0.00000000e+00,   0.00000000e+00,\n",
       "          0.00000000e+00,   0.00000000e+00,   0.00000000e+00,\n",
       "          0.00000000e+00,   0.00000000e+00,   0.00000000e+00,\n",
       "          0.00000000e+00,   0.00000000e+00,   0.00000000e+00,\n",
       "          0.00000000e+00,   0.00000000e+00,   0.00000000e+00,\n",
       "          0.00000000e+00,   0.00000000e+00,   0.00000000e+00,\n",
       "          0.00000000e+00,   0.00000000e+00,   0.00000000e+00,\n",
       "          0.00000000e+00,   0.00000000e+00,   0.00000000e+00,\n",
       "          0.00000000e+00,   0.00000000e+00,   0.00000000e+00,\n",
       "          0.00000000e+00,   0.00000000e+00,   0.00000000e+00,\n",
       "          0.00000000e+00,   0.00000000e+00,   0.00000000e+00,\n",
       "          0.00000000e+00,   0.00000000e+00,   0.00000000e+00,\n",
       "          0.00000000e+00,   0.00000000e+00,   0.00000000e+00,\n",
       "          0.00000000e+00,   0.00000000e+00,   0.00000000e+00,\n",
       "          0.00000000e+00,   0.00000000e+00,   0.00000000e+00,\n",
       "          1.00000000e+00]),\n",
       " array([  1.50000000e+02,   1.21313917e+05,   2.42477835e+05,\n",
       "          3.63641753e+05,   4.84805670e+05,   6.05969588e+05,\n",
       "          7.27133505e+05,   8.48297422e+05,   9.69461340e+05,\n",
       "          1.09062526e+06,   1.21178918e+06,   1.33295309e+06,\n",
       "          1.45411701e+06,   1.57528093e+06,   1.69644484e+06,\n",
       "          1.81760876e+06,   1.93877268e+06,   2.05993660e+06,\n",
       "          2.18110052e+06,   2.30226443e+06,   2.42342835e+06,\n",
       "          2.54459227e+06,   2.66575619e+06,   2.78692010e+06,\n",
       "          2.90808402e+06,   3.02924794e+06,   3.15041185e+06,\n",
       "          3.27157577e+06,   3.39273969e+06,   3.51390361e+06,\n",
       "          3.63506752e+06,   3.75623144e+06,   3.87739536e+06,\n",
       "          3.99855928e+06,   4.11972319e+06,   4.24088711e+06,\n",
       "          4.36205103e+06,   4.48321495e+06,   4.60437887e+06,\n",
       "          4.72554278e+06,   4.84670670e+06,   4.96787062e+06,\n",
       "          5.08903454e+06,   5.21019845e+06,   5.33136237e+06,\n",
       "          5.45252629e+06,   5.57369021e+06,   5.69485412e+06,\n",
       "          5.81601804e+06,   5.93718196e+06,   6.05834588e+06,\n",
       "          6.17950979e+06,   6.30067371e+06,   6.42183763e+06,\n",
       "          6.54300154e+06,   6.66416546e+06,   6.78532938e+06,\n",
       "          6.90649330e+06,   7.02765721e+06,   7.14882113e+06,\n",
       "          7.26998505e+06,   7.39114897e+06,   7.51231288e+06,\n",
       "          7.63347680e+06,   7.75464072e+06,   7.87580464e+06,\n",
       "          7.99696855e+06,   8.11813247e+06,   8.23929639e+06,\n",
       "          8.36046031e+06,   8.48162422e+06,   8.60278814e+06,\n",
       "          8.72395206e+06,   8.84511598e+06,   8.96627989e+06,\n",
       "          9.08744381e+06,   9.20860773e+06,   9.32977165e+06,\n",
       "          9.45093556e+06,   9.57209948e+06,   9.69326340e+06,\n",
       "          9.81442732e+06,   9.93559123e+06,   1.00567552e+07,\n",
       "          1.01779191e+07,   1.02990830e+07,   1.04202469e+07,\n",
       "          1.05414108e+07,   1.06625747e+07,   1.07837387e+07,\n",
       "          1.09049026e+07,   1.10260665e+07,   1.11472304e+07,\n",
       "          1.12683943e+07,   1.13895582e+07,   1.15107222e+07,\n",
       "          1.16318861e+07,   1.17530500e+07,   1.18742139e+07,\n",
       "          1.19953778e+07,   1.21165418e+07,   1.22377057e+07,\n",
       "          1.23588696e+07,   1.24800335e+07,   1.26011974e+07,\n",
       "          1.27223613e+07,   1.28435253e+07,   1.29646892e+07,\n",
       "          1.30858531e+07,   1.32070170e+07,   1.33281809e+07,\n",
       "          1.34493448e+07,   1.35705088e+07,   1.36916727e+07,\n",
       "          1.38128366e+07,   1.39340005e+07,   1.40551644e+07,\n",
       "          1.41763283e+07,   1.42974923e+07,   1.44186562e+07,\n",
       "          1.45398201e+07,   1.46609840e+07,   1.47821479e+07,\n",
       "          1.49033119e+07,   1.50244758e+07,   1.51456397e+07,\n",
       "          1.52668036e+07,   1.53879675e+07,   1.55091314e+07,\n",
       "          1.56302954e+07,   1.57514593e+07,   1.58726232e+07,\n",
       "          1.59937871e+07,   1.61149510e+07,   1.62361149e+07,\n",
       "          1.63572789e+07,   1.64784428e+07,   1.65996067e+07,\n",
       "          1.67207706e+07,   1.68419345e+07,   1.69630984e+07,\n",
       "          1.70842624e+07,   1.72054263e+07,   1.73265902e+07,\n",
       "          1.74477541e+07,   1.75689180e+07,   1.76900820e+07,\n",
       "          1.78112459e+07,   1.79324098e+07,   1.80535737e+07,\n",
       "          1.81747376e+07,   1.82959015e+07,   1.84170655e+07,\n",
       "          1.85382294e+07,   1.86593933e+07,   1.87805572e+07,\n",
       "          1.89017211e+07,   1.90228850e+07,   1.91440490e+07,\n",
       "          1.92652129e+07,   1.93863768e+07,   1.95075407e+07,\n",
       "          1.96287046e+07,   1.97498686e+07,   1.98710325e+07,\n",
       "          1.99921964e+07,   2.01133603e+07,   2.02345242e+07,\n",
       "          2.03556881e+07,   2.04768521e+07,   2.05980160e+07,\n",
       "          2.07191799e+07,   2.08403438e+07,   2.09615077e+07,\n",
       "          2.10826716e+07,   2.12038356e+07,   2.13249995e+07,\n",
       "          2.14461634e+07,   2.15673273e+07,   2.16884912e+07,\n",
       "          2.18096551e+07,   2.19308191e+07,   2.20519830e+07,\n",
       "          2.21731469e+07,   2.22943108e+07,   2.24154747e+07,\n",
       "          2.25366387e+07,   2.26578026e+07,   2.27789665e+07,\n",
       "          2.29001304e+07,   2.30212943e+07,   2.31424582e+07,\n",
       "          2.32636222e+07,   2.33847861e+07,   2.35059500e+07,\n",
       "          2.36271139e+07,   2.37482778e+07,   2.38694417e+07,\n",
       "          2.39906057e+07,   2.41117696e+07,   2.42329335e+07,\n",
       "          2.43540974e+07,   2.44752613e+07,   2.45964253e+07,\n",
       "          2.47175892e+07,   2.48387531e+07,   2.49599170e+07,\n",
       "          2.50810809e+07,   2.52022448e+07,   2.53234088e+07,\n",
       "          2.54445727e+07,   2.55657366e+07,   2.56869005e+07,\n",
       "          2.58080644e+07,   2.59292283e+07,   2.60503923e+07,\n",
       "          2.61715562e+07,   2.62927201e+07,   2.64138840e+07,\n",
       "          2.65350479e+07,   2.66562118e+07,   2.67773758e+07,\n",
       "          2.68985397e+07,   2.70197036e+07,   2.71408675e+07,\n",
       "          2.72620314e+07,   2.73831954e+07,   2.75043593e+07,\n",
       "          2.76255232e+07,   2.77466871e+07,   2.78678510e+07,\n",
       "          2.79890149e+07,   2.81101789e+07,   2.82313428e+07,\n",
       "          2.83525067e+07,   2.84736706e+07,   2.85948345e+07,\n",
       "          2.87159984e+07,   2.88371624e+07,   2.89583263e+07,\n",
       "          2.90794902e+07,   2.92006541e+07,   2.93218180e+07,\n",
       "          2.94429820e+07,   2.95641459e+07,   2.96853098e+07,\n",
       "          2.98064737e+07,   2.99276376e+07,   3.00488015e+07,\n",
       "          3.01699655e+07,   3.02911294e+07,   3.04122933e+07,\n",
       "          3.05334572e+07,   3.06546211e+07,   3.07757850e+07,\n",
       "          3.08969490e+07,   3.10181129e+07,   3.11392768e+07,\n",
       "          3.12604407e+07,   3.13816046e+07,   3.15027686e+07,\n",
       "          3.16239325e+07,   3.17450964e+07,   3.18662603e+07,\n",
       "          3.19874242e+07,   3.21085881e+07,   3.22297521e+07,\n",
       "          3.23509160e+07,   3.24720799e+07,   3.25932438e+07,\n",
       "          3.27144077e+07,   3.28355716e+07,   3.29567356e+07,\n",
       "          3.30778995e+07,   3.31990634e+07,   3.33202273e+07,\n",
       "          3.34413912e+07,   3.35625551e+07,   3.36837191e+07,\n",
       "          3.38048830e+07,   3.39260469e+07,   3.40472108e+07,\n",
       "          3.41683747e+07,   3.42895387e+07,   3.44107026e+07,\n",
       "          3.45318665e+07,   3.46530304e+07,   3.47741943e+07,\n",
       "          3.48953582e+07,   3.50165222e+07,   3.51376861e+07,\n",
       "          3.52588500e+07,   3.53800139e+07,   3.55011778e+07,\n",
       "          3.56223417e+07,   3.57435057e+07,   3.58646696e+07,\n",
       "          3.59858335e+07,   3.61069974e+07,   3.62281613e+07,\n",
       "          3.63493252e+07,   3.64704892e+07,   3.65916531e+07,\n",
       "          3.67128170e+07,   3.68339809e+07,   3.69551448e+07,\n",
       "          3.70763088e+07,   3.71974727e+07,   3.73186366e+07,\n",
       "          3.74398005e+07,   3.75609644e+07,   3.76821283e+07,\n",
       "          3.78032923e+07,   3.79244562e+07,   3.80456201e+07,\n",
       "          3.81667840e+07,   3.82879479e+07,   3.84091118e+07,\n",
       "          3.85302758e+07,   3.86514397e+07,   3.87726036e+07,\n",
       "          3.88937675e+07,   3.90149314e+07,   3.91360954e+07,\n",
       "          3.92572593e+07,   3.93784232e+07,   3.94995871e+07,\n",
       "          3.96207510e+07,   3.97419149e+07,   3.98630789e+07,\n",
       "          3.99842428e+07,   4.01054067e+07,   4.02265706e+07,\n",
       "          4.03477345e+07,   4.04688984e+07,   4.05900624e+07,\n",
       "          4.07112263e+07,   4.08323902e+07,   4.09535541e+07,\n",
       "          4.10747180e+07,   4.11958819e+07,   4.13170459e+07,\n",
       "          4.14382098e+07,   4.15593737e+07,   4.16805376e+07,\n",
       "          4.18017015e+07,   4.19228655e+07,   4.20440294e+07,\n",
       "          4.21651933e+07,   4.22863572e+07,   4.24075211e+07,\n",
       "          4.25286850e+07,   4.26498490e+07,   4.27710129e+07,\n",
       "          4.28921768e+07,   4.30133407e+07,   4.31345046e+07,\n",
       "          4.32556685e+07,   4.33768325e+07,   4.34979964e+07,\n",
       "          4.36191603e+07,   4.37403242e+07,   4.38614881e+07,\n",
       "          4.39826521e+07,   4.41038160e+07,   4.42249799e+07,\n",
       "          4.43461438e+07,   4.44673077e+07,   4.45884716e+07,\n",
       "          4.47096356e+07,   4.48307995e+07,   4.49519634e+07,\n",
       "          4.50731273e+07,   4.51942912e+07,   4.53154551e+07,\n",
       "          4.54366191e+07,   4.55577830e+07,   4.56789469e+07,\n",
       "          4.58001108e+07,   4.59212747e+07,   4.60424386e+07,\n",
       "          4.61636026e+07,   4.62847665e+07,   4.64059304e+07,\n",
       "          4.65270943e+07,   4.66482582e+07,   4.67694222e+07,\n",
       "          4.68905861e+07,   4.70117500e+07,   4.71329139e+07,\n",
       "          4.72540778e+07,   4.73752417e+07,   4.74964057e+07,\n",
       "          4.76175696e+07,   4.77387335e+07,   4.78598974e+07,\n",
       "          4.79810613e+07,   4.81022252e+07,   4.82233892e+07,\n",
       "          4.83445531e+07,   4.84657170e+07]),\n",
       " <a list of 400 Patch objects>)"
      ]
     },
     "execution_count": 25,
     "metadata": {},
     "output_type": "execute_result"
    },
    {
     "data": {
      "image/png": "[encoded data removed]",
      "text/plain": [
       "<Figure size 432x288 with 1 Axes>"
      ]
     },
     "metadata": {
      "needs_background": "light"
     },
     "output_type": "display_data"
    }
   ],
   "source": [
    "plt.hist(house['Price'],bins=400)"
   ]
  },
  {
   "cell_type": "markdown",
   "metadata": {},
   "source": [
    "It is ugly .We can add more information by increasing the bin size to get more edges."
   ]
  },
  {
   "cell_type": "code",
   "execution_count": 11,
   "metadata": {},
   "outputs": [
    {
     "data": {
      "text/plain": [
       "(array([ 20.,   6.,   0.,   1.,   0.,   0.,   0.,   1.,   0.,   1.]),\n",
       " array([   52500.,   447250.,   842000.,  1236750.,  1631500.,  2026250.,\n",
       "         2421000.,  2815750.,  3210500.,  3605250.,  4000000.]),\n",
       " <a list of 10 Patch objects>)"
      ]
     },
     "execution_count": 11,
     "metadata": {},
     "output_type": "execute_result"
    },
    {
     "data": {
      "image/png": "[encoded data removed]",
      "text/plain": [
       "<Figure size 432x288 with 1 Axes>"
      ]
     },
     "metadata": {
      "needs_background": "light"
     },
     "output_type": "display_data"
    }
   ],
   "source": [
    "london = house[house['District'].str.contains('LONDON')]\n",
    "plt.hist(london.Price)"
   ]
  },
  {
   "cell_type": "code",
   "execution_count": 12,
   "metadata": {},
   "outputs": [
    {
     "data": {
      "text/plain": [
       "(array([  31.,   92.,  375., ...,    0.,    0.,    1.]),\n",
       " array([  1.50000000e+02,   5.00043705e+03,   9.85087410e+03, ...,\n",
       "          4.84560161e+07,   4.84608666e+07,   4.84657170e+07]),\n",
       " <a list of 9992 Patch objects>)"
      ]
     },
     "execution_count": 12,
     "metadata": {},
     "output_type": "execute_result"
    },
    {
     "data": {
      "image/png": "[encoded data removed]",
      "text/plain": [
       "<Figure size 432x288 with 1 Axes>"
      ]
     },
     "metadata": {
      "needs_background": "light"
     },
     "output_type": "display_data"
    }
   ],
   "source": [
    "london2 = house[~house['District'].str.contains('LONDON')]\n",
    "plt.hist(london2.Price,bins=9992)"
   ]
  },
  {
   "cell_type": "markdown",
   "metadata": {},
   "source": [
    "Yes,real estate is costlier in London when compared to other places as mean in London is greater than other places."
   ]
  },
  {
   "cell_type": "code",
   "execution_count": 18,
   "metadata": {},
   "outputs": [
    {
     "data": {
      "text/html": [
       "<div>\n",
       "<style scoped>\n",
       "    .dataframe tbody tr th:only-of-type {\n",
       "        vertical-align: middle;\n",
       "    }\n",
       "\n",
       "    .dataframe tbody tr th {\n",
       "        vertical-align: top;\n",
       "    }\n",
       "\n",
       "    .dataframe thead th {\n",
       "        text-align: right;\n",
       "    }\n",
       "</style>\n",
       "<table border=\"1\" class=\"dataframe\">\n",
       "  <thead>\n",
       "    <tr style=\"text-align: right;\">\n",
       "      <th></th>\n",
       "      <th>Price</th>\n",
       "    </tr>\n",
       "  </thead>\n",
       "  <tbody>\n",
       "    <tr>\n",
       "      <th>count</th>\n",
       "      <td>9.997100e+04</td>\n",
       "    </tr>\n",
       "    <tr>\n",
       "      <th>mean</th>\n",
       "      <td>1.742696e+05</td>\n",
       "    </tr>\n",
       "    <tr>\n",
       "      <th>std</th>\n",
       "      <td>3.511385e+05</td>\n",
       "    </tr>\n",
       "    <tr>\n",
       "      <th>min</th>\n",
       "      <td>1.500000e+02</td>\n",
       "    </tr>\n",
       "    <tr>\n",
       "      <th>25%</th>\n",
       "      <td>7.399500e+04</td>\n",
       "    </tr>\n",
       "    <tr>\n",
       "      <th>50%</th>\n",
       "      <td>1.290000e+05</td>\n",
       "    </tr>\n",
       "    <tr>\n",
       "      <th>75%</th>\n",
       "      <td>2.070000e+05</td>\n",
       "    </tr>\n",
       "    <tr>\n",
       "      <th>max</th>\n",
       "      <td>4.846572e+07</td>\n",
       "    </tr>\n",
       "  </tbody>\n",
       "</table>\n",
       "</div>"
      ],
      "text/plain": [
       "              Price\n",
       "count  9.997100e+04\n",
       "mean   1.742696e+05\n",
       "std    3.511385e+05\n",
       "min    1.500000e+02\n",
       "25%    7.399500e+04\n",
       "50%    1.290000e+05\n",
       "75%    2.070000e+05\n",
       "max    4.846572e+07"
      ]
     },
     "execution_count": 18,
     "metadata": {},
     "output_type": "execute_result"
    }
   ],
   "source": [
    "london2.describe()"
   ]
  },
  {
   "cell_type": "code",
   "execution_count": 19,
   "metadata": {},
   "outputs": [
    {
     "data": {
      "text/html": [
       "<div>\n",
       "<style scoped>\n",
       "    .dataframe tbody tr th:only-of-type {\n",
       "        vertical-align: middle;\n",
       "    }\n",
       "\n",
       "    .dataframe tbody tr th {\n",
       "        vertical-align: top;\n",
       "    }\n",
       "\n",
       "    .dataframe thead th {\n",
       "        text-align: right;\n",
       "    }\n",
       "</style>\n",
       "<table border=\"1\" class=\"dataframe\">\n",
       "  <thead>\n",
       "    <tr style=\"text-align: right;\">\n",
       "      <th></th>\n",
       "      <th>Price</th>\n",
       "    </tr>\n",
       "  </thead>\n",
       "  <tbody>\n",
       "    <tr>\n",
       "      <th>count</th>\n",
       "      <td>2.900000e+01</td>\n",
       "    </tr>\n",
       "    <tr>\n",
       "      <th>mean</th>\n",
       "      <td>5.780897e+05</td>\n",
       "    </tr>\n",
       "    <tr>\n",
       "      <th>std</th>\n",
       "      <td>8.798543e+05</td>\n",
       "    </tr>\n",
       "    <tr>\n",
       "      <th>min</th>\n",
       "      <td>5.250000e+04</td>\n",
       "    </tr>\n",
       "    <tr>\n",
       "      <th>25%</th>\n",
       "      <td>1.430000e+05</td>\n",
       "    </tr>\n",
       "    <tr>\n",
       "      <th>50%</th>\n",
       "      <td>3.100000e+05</td>\n",
       "    </tr>\n",
       "    <tr>\n",
       "      <th>75%</th>\n",
       "      <td>6.000000e+05</td>\n",
       "    </tr>\n",
       "    <tr>\n",
       "      <th>max</th>\n",
       "      <td>4.000000e+06</td>\n",
       "    </tr>\n",
       "  </tbody>\n",
       "</table>\n",
       "</div>"
      ],
      "text/plain": [
       "              Price\n",
       "count  2.900000e+01\n",
       "mean   5.780897e+05\n",
       "std    8.798543e+05\n",
       "min    5.250000e+04\n",
       "25%    1.430000e+05\n",
       "50%    3.100000e+05\n",
       "75%    6.000000e+05\n",
       "max    4.000000e+06"
      ]
     },
     "execution_count": 19,
     "metadata": {},
     "output_type": "execute_result"
    }
   ],
   "source": [
    "london.describe()"
   ]
  },
  {
   "cell_type": "code",
   "execution_count": 13,
   "metadata": {},
   "outputs": [
    {
     "data": {
      "text/plain": [
       "([array([ 1.,  0.,  0.,  0.,  0.,  0.,  0.,  0.,  0.,  0.]),\n",
       "  array([ 1.,  0.,  0.,  0.,  0.,  0.,  0.,  0.,  0.,  0.]),\n",
       "  array([ 1.,  0.,  0.,  0.,  0.,  0.,  0.,  0.,  0.,  0.]),\n",
       "  array([ 1.,  0.,  0.,  0.,  0.,  0.,  0.,  0.,  0.,  0.]),\n",
       "  array([ 0.,  1.,  0.,  0.,  0.,  0.,  0.,  0.,  0.,  0.]),\n",
       "  array([ 0.,  1.,  0.,  0.,  0.,  0.,  0.,  0.,  0.,  0.]),\n",
       "  array([ 0.,  0.,  1.,  0.,  0.,  0.,  0.,  0.,  0.,  0.]),\n",
       "  array([ 0.,  0.,  1.,  0.,  0.,  0.,  0.,  0.,  0.,  0.]),\n",
       "  array([ 0.,  0.,  0.,  1.,  0.,  0.,  0.,  0.,  0.,  0.]),\n",
       "  array([ 0.,  0.,  0.,  0.,  1.,  0.,  0.,  0.,  0.,  0.]),\n",
       "  array([ 0.,  0.,  0.,  0.,  0.,  1.,  0.,  0.,  0.,  0.]),\n",
       "  array([ 0.,  0.,  0.,  0.,  0.,  1.,  0.,  0.,  0.,  0.]),\n",
       "  array([ 0.,  0.,  0.,  0.,  0.,  0.,  1.,  0.,  0.,  0.]),\n",
       "  array([ 0.,  0.,  0.,  0.,  0.,  0.,  1.,  0.,  0.,  0.]),\n",
       "  array([ 0.,  0.,  0.,  0.,  0.,  0.,  1.,  0.,  0.,  0.]),\n",
       "  array([ 0.,  0.,  0.,  0.,  0.,  0.,  1.,  0.,  0.,  0.]),\n",
       "  array([ 0.,  0.,  0.,  0.,  0.,  0.,  0.,  1.,  0.,  0.]),\n",
       "  array([ 0.,  0.,  0.,  0.,  0.,  0.,  0.,  1.,  0.,  0.]),\n",
       "  array([ 0.,  0.,  0.,  0.,  0.,  0.,  0.,  0.,  1.,  0.]),\n",
       "  array([ 0.,  0.,  0.,  0.,  0.,  0.,  0.,  0.,  0.,  1.]),\n",
       "  array([ 0.,  0.,  0.,  0.,  0.,  0.,  0.,  0.,  0.,  1.]),\n",
       "  array([ 0.,  0.,  0.,  0.,  0.,  0.,  0.,  0.,  0.,  1.])],\n",
       " array([  68598.00781882,   92222.29361173,  115846.57940464,\n",
       "         139470.86519756,  163095.15099047,  186719.43678338,\n",
       "         210343.72257629,  233968.00836921,  257592.29416212,\n",
       "         281216.57995503,  304840.86574794]),\n",
       " <a list of 22 Lists of Patches objects>)"
      ]
     },
     "execution_count": 13,
     "metadata": {},
     "output_type": "execute_result"
    },
    {
     "data": {
      "image/png": "[encoded data removed]",
      "text/plain": [
       "<Figure size 432x288 with 1 Axes>"
      ]
     },
     "metadata": {
      "needs_background": "light"
     },
     "output_type": "display_data"
    }
   ],
   "source": [
    "house['group'] = house['DOT'].str[:4]\n",
    "p=house.groupby('group').mean()\n",
    "plt.hist(p)"
   ]
  },
  {
   "cell_type": "markdown",
   "metadata": {},
   "source": [
    "Part-2"
   ]
  },
  {
   "cell_type": "code",
   "execution_count": 14,
   "metadata": {},
   "outputs": [],
   "source": [
    "import numpy.random as np"
   ]
  },
  {
   "cell_type": "code",
   "execution_count": 15,
   "metadata": {},
   "outputs": [
    {
     "data": {
      "text/plain": [
       "(array([ 2.,  0.,  1.,  0.,  1.,  2.,  1.,  0.,  1.,  2.]),\n",
       " array([ 0.02506715,  0.11619418,  0.20732121,  0.29844823,  0.38957526,\n",
       "         0.48070229,  0.57182931,  0.66295634,  0.75408337,  0.8452104 ,\n",
       "         0.93633742]),\n",
       " <a list of 10 Patch objects>)"
      ]
     },
     "execution_count": 15,
     "metadata": {},
     "output_type": "execute_result"
    },
    {
     "data": {
      "image/png": "[encoded data removed]",
      "text/plain": [
       "<Figure size 432x288 with 1 Axes>"
      ]
     },
     "metadata": {
      "needs_background": "light"
     },
     "output_type": "display_data"
    }
   ],
   "source": [
    "a = np.rand(10)\n",
    "plt.hist(a)"
   ]
  },
  {
   "cell_type": "markdown",
   "metadata": {},
   "source": [
    "The shape of the plot is not uniform with some numbers appearing more than others."
   ]
  },
  {
   "cell_type": "code",
   "execution_count": 16,
   "metadata": {},
   "outputs": [
    {
     "data": {
      "text/plain": [
       "(array([ 1004.,  1032.,   979.,   993.,  1033.,  1014.,   999.,   978.,\n",
       "          992.,   976.]),\n",
       " array([  4.91627468e-06,   9.99850969e-02,   1.99965278e-01,\n",
       "          2.99945458e-01,   3.99925639e-01,   4.99905820e-01,\n",
       "          5.99886000e-01,   6.99866181e-01,   7.99846362e-01,\n",
       "          8.99826542e-01,   9.99806723e-01]),\n",
       " <a list of 10 Patch objects>)"
      ]
     },
     "execution_count": 16,
     "metadata": {},
     "output_type": "execute_result"
    },
    {
     "data": {
      "image/png": "[encoded data removed]",
      "text/plain": [
       "<Figure size 432x288 with 1 Axes>"
      ]
     },
     "metadata": {
      "needs_background": "light"
     },
     "output_type": "display_data"
    }
   ],
   "source": [
    "\n",
    "a = np.rand(10000)\n",
    "plt.hist(a)"
   ]
  },
  {
   "cell_type": "markdown",
   "metadata": {},
   "source": [
    "As the number of random numbers are increased the graph is slowly turned to a uniform graph where each number is apperaing more or less the same number of times."
   ]
  },
  {
   "cell_type": "code",
   "execution_count": 17,
   "metadata": {},
   "outputs": [
    {
     "data": {
      "text/plain": [
       "(array([   19.,   107.,   537.,  1437.,  2502.,  2715.,  1760.,   715.,\n",
       "          188.,    20.]),\n",
       " array([  63.50922793,   70.64053569,   77.77184345,   84.90315121,\n",
       "          92.03445898,   99.16576674,  106.2970745 ,  113.42838226,\n",
       "         120.55969003,  127.69099779,  134.82230555]),\n",
       " <a list of 10 Patch objects>)"
      ]
     },
     "execution_count": 17,
     "metadata": {},
     "output_type": "execute_result"
    },
    {
     "data": {
      "image/png": "[encoded data removed]",
      "text/plain": [
       "<Figure size 432x288 with 1 Axes>"
      ]
     },
     "metadata": {
      "needs_background": "light"
     },
     "output_type": "display_data"
    }
   ],
   "source": [
    "plt.hist(np.normal(100,10,10000))"
   ]
  },
  {
   "cell_type": "markdown",
   "metadata": {},
   "source": [
    "The shape is not the same with normal distribution.It is tending to symmetricity."
   ]
  },
  {
   "cell_type": "code",
   "execution_count": null,
   "metadata": {},
   "outputs": [],
   "source": []
  },
  {
   "cell_type": "code",
   "execution_count": null,
   "metadata": {},
   "outputs": [],
   "source": []
  }
 ],
 "metadata": {
  "kernelspec": {
   "display_name": "Python 3",
   "language": "python",
   "name": "python3"
  },
  "language_info": {
   "codemirror_mode": {
    "name": "ipython",
    "version": 3
   },
   "file_extension": ".py",
   "mimetype": "text/x-python",
   "name": "python",
   "nbconvert_exporter": "python",
   "pygments_lexer": "ipython3",
   "version": "3.6.5"
  }
 },
 "nbformat": 4,
 "nbformat_minor": 2
}
